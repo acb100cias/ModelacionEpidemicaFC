{
  "nbformat": 4,
  "nbformat_minor": 0,
  "metadata": {
    "colab": {
      "name": "Notas Epi.ipynb",
      "provenance": [],
      "collapsed_sections": [],
      "authorship_tag": "ABX9TyNBYCVzOA1kJA/pT9+4T+4X",
      "include_colab_link": true
    },
    "kernelspec": {
      "name": "python3",
      "display_name": "Python 3"
    }
  },
  "cells": [
    {
      "cell_type": "markdown",
      "metadata": {
        "id": "view-in-github",
        "colab_type": "text"
      },
      "source": [
        "<a href=\"https://colab.research.google.com/github/acb100cias/ModelacionEpidemicaFC/blob/main/Notas_Epi.ipynb\" target=\"_parent\"><img src=\"https://colab.research.google.com/assets/colab-badge.svg\" alt=\"Open In Colab\"/></a>"
      ]
    },
    {
      "cell_type": "code",
      "metadata": {
        "id": "kUMxVnDldDl_"
      },
      "source": [
        ""
      ],
      "execution_count": null,
      "outputs": []
    },
    {
      "cell_type": "markdown",
      "metadata": {
        "id": "lyoGG9qfdEf8"
      },
      "source": [
        "# Introduccion a la modelación epidémica\n",
        "\n",
        "---\n",
        "\n",
        "\n",
        "## Modelos epidémicos compartimentales\n",
        "\n",
        "-------\n",
        ">> Supongamos que nuestra  población puede ser determinada en alguno de tres estados posibles. O bien el individuo está enfermo y es infeccioso, o bien no ha sido infectado y es susceptible de infectarse. Una vez que la enfermedad ha terminado su curso, el individuo obtiene inmunidad contra la enfermedad o muere. Suponemos que los individuos fallecidos no  transmiten la enfermedad.\n",
        "\n",
        "Llamemos $S(t)$ a la cantidad de individuos susceptibles en la población al tiempo $t$ , $I(t)$a la proporciónd individuos infectados al tiempo $t$ y $R(t)$ a los individuos removidos del sistema. \n",
        "\n",
        "¿Cómo es la dinámica infecciosa de la enferemedad? Supongamos que cada individuo infectado tiene la misma probabilidad de infectar a cualquiera de los individuos susceptibles con una probabilibad $\\beta$.\n",
        "\n",
        "$$\n",
        "S\\xrightarrow \\beta I\n",
        "$$\n",
        "\n",
        "De tal forma que los susceptibles decrecen  conforme transcurre el tiempo a una tasa proporcional a la cantidad de personas infectadas. \n",
        "\n",
        "Una vez infectados, los individuos transcurren su enfermedad, en cada paso del tiempo, una proporción constante $\\gamma$ de infectados se recuperan o pierden la vida, en cualquier caso, salen de la cadena de contagios.\n",
        "\n",
        "$$\n",
        "I\\xrightarrow \\gamma R\n",
        "$$\n",
        "\n",
        "Así que nuestra dinámica infecciosa queda descrita por el siguiente sistema de ecuaciones diferenciales ordinarias\n",
        "\n",
        "$$ \\begin{array}{ccc}\n",
        "\\dot{S}(t)&=&-\\beta S(t)I(t)\\\\\n",
        "\\dot{I}(t)&=&\\beta S(t)I(t)-\\gamma R(t)\\\\\n",
        "\\dot{R}(t)&=&\\gamma R(t)\n",
        "\\end{array}$$\n",
        "\n",
        "Implícitamente estamoshaciendo algunas suposiciones fuertes:\n",
        "\n",
        "\n",
        "\n",
        "1. Podemos separar  a la población en clases disjuntas en cada momento de la enfermedad     \n",
        "2. Las poblaciones están bien-mezcladas  \n",
        "3. La infección se da por contacto cercano y casi instantáneamente  \n",
        "\n",
        "\n",
        "\n",
        "\n",
        "\n",
        "\n"
      ]
    },
    {
      "cell_type": "code",
      "metadata": {
        "id": "R4U-6xTZdcpX"
      },
      "source": [
        ""
      ],
      "execution_count": null,
      "outputs": []
    }
  ]
}